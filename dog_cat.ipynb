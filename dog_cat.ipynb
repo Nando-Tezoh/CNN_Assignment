{
  "nbformat": 4,
  "nbformat_minor": 0,
  "metadata": {
    "kernelspec": {
      "display_name": "Python 3",
      "language": "python",
      "name": "python3"
    },
    "language_info": {
      "codemirror_mode": {
        "name": "ipython",
        "version": 3
      },
      "file_extension": ".py",
      "mimetype": "text/x-python",
      "name": "python",
      "nbconvert_exporter": "python",
      "pygments_lexer": "ipython3",
      "version": "3.7.3"
    },
    "colab": {
      "name": "dog_cat.ipynb",
      "provenance": [],
      "collapsed_sections": [],
      "include_colab_link": true
    }
  },
  "cells": [
    {
      "cell_type": "markdown",
      "metadata": {
        "id": "view-in-github",
        "colab_type": "text"
      },
      "source": [
        "<a href=\"https://colab.research.google.com/github/Nando-Tezoh/CNN_Assignment/blob/master/dog_cat.ipynb\" target=\"_parent\"><img src=\"https://colab.research.google.com/assets/colab-badge.svg\" alt=\"Open In Colab\"/></a>"
      ]
    },
    {
      "cell_type": "code",
      "metadata": {
        "id": "2hAMB_inKdCN",
        "colab_type": "code",
        "colab": {}
      },
      "source": [
        "#import packages"
      ],
      "execution_count": 0,
      "outputs": []
    },
    {
      "cell_type": "code",
      "metadata": {
        "id": "NGKwMA21LT13",
        "colab_type": "code",
        "colab": {
          "base_uri": "https://localhost:8080/",
          "height": 68
        },
        "outputId": "1f568e93-904d-4fea-9631-0630efcc83d0"
      },
      "source": [
        "#https://drive.google.com/file/d/1qXKSt6jAgh20f-2PkRT-Z61PW-3E4S_z/\n",
        "\n",
        "# Load helper file\n",
        "link = \"https://drive.google.com/file/d/1qXKSt6jAgh20f-2PkRT-Z61PW-3E4S_z/\"\n",
        "\n",
        "_, id_t = link.split('d/')\n",
        "\n",
        "id = id_t.split('/')[0]\n",
        "\n",
        "print (\"Loading file ...\")\n",
        "\n",
        "print (id) # Verify that you have everything after '='\n",
        "\n",
        "# Install the PyDrive wrapper & import libraries.\n",
        "# This only needs to be done once per notebook.\n",
        "!pip install -U -q PyDrive\n",
        "from pydrive.auth import GoogleAuth\n",
        "from pydrive.drive import GoogleDrive\n",
        "from google.colab import auth\n",
        "from oauth2client.client import GoogleCredentials\n",
        "\n",
        "# Authenticate and create the PyDrive client.\n",
        "# This only needs to be done once per notebook.\n",
        "auth.authenticate_user()\n",
        "gauth = GoogleAuth()\n",
        "gauth.credentials = GoogleCredentials.get_application_default()\n",
        "drive = GoogleDrive(gauth)\n",
        "\n",
        "\n",
        "file_id = id\n",
        "downloaded = drive.CreateFile({'id':file_id})\n",
        "downloaded.FetchMetadata(fetch_all=True)\n",
        "downloaded.GetContentFile(downloaded.metadata['title'])\n",
        "print (\"Completed\")"
      ],
      "execution_count": 1,
      "outputs": [
        {
          "output_type": "stream",
          "text": [
            "Loading file ...\n",
            "1qXKSt6jAgh20f-2PkRT-Z61PW-3E4S_z\n",
            "Completed\n"
          ],
          "name": "stdout"
        }
      ]
    },
    {
      "cell_type": "code",
      "metadata": {
        "id": "H1zJUW1PLu0g",
        "colab_type": "code",
        "colab": {
          "base_uri": "https://localhost:8080/",
          "height": 1000
        },
        "outputId": "bb058ce6-5b2d-47dc-ba01-29b36de6ec8d"
      },
      "source": [
        "!unzip data.zip"
      ],
      "execution_count": 2,
      "outputs": [
        {
          "output_type": "stream",
          "text": [
            "Archive:  data.zip\n",
            "   creating: data/\n",
            "   creating: data/train/\n",
            "   creating: data/train/cat/\n",
            "  inflating: data/train/cat/11.jpeg  \n",
            "  inflating: data/train/cat/25.jpeg  \n",
            "  inflating: data/train/cat/5.jpeg   \n",
            "  inflating: data/train/cat/16.jpeg  \n",
            "  inflating: data/train/cat/17.jpeg  \n",
            "  inflating: data/train/cat/10.jpg   \n",
            "  inflating: data/train/cat/9.jpg    \n",
            "  inflating: data/train/cat/6.jpeg   \n",
            "  inflating: data/train/cat/7.jpeg   \n",
            "  inflating: data/train/cat/12.jpeg  \n",
            "  inflating: data/train/cat/8.jpeg   \n",
            "  inflating: data/train/cat/13.jpeg  \n",
            "  inflating: data/train/cat/14.jpeg  \n",
            "  inflating: data/train/cat/18.jpeg  \n",
            "  inflating: data/train/cat/15.jpeg  \n",
            "  inflating: data/train/cat/19.jpeg  \n",
            "  inflating: data/train/cat/20.jpeg  \n",
            "  inflating: data/train/cat/21.jpeg  \n",
            "  inflating: data/train/cat/22.jpeg  \n",
            "  inflating: data/train/cat/23.jpeg  \n",
            "  inflating: data/train/cat/24.jpeg  \n",
            "  inflating: data/train/cat/27.jpeg  \n",
            "  inflating: data/train/cat/26.jpeg  \n",
            "  inflating: data/train/cat/28.jpeg  \n",
            "  inflating: data/train/cat/29.jpeg  \n",
            "  inflating: data/train/cat/30.jpeg  \n",
            "  inflating: data/train/cat/1.jpeg   \n",
            "  inflating: data/train/cat/3.jpeg   \n",
            "  inflating: data/train/cat/2.jpeg   \n",
            "  inflating: data/train/cat/4.jpeg   \n",
            "   creating: data/train/dog/\n",
            "  inflating: data/train/dog/16.jpeg  \n",
            "  inflating: data/train/dog/1.jpeg   \n",
            "  inflating: data/train/dog/2.jpeg   \n",
            "  inflating: data/train/dog/3.jpeg   \n",
            "  inflating: data/train/dog/12.jpeg  \n",
            "  inflating: data/train/dog/4.jpeg   \n",
            "  inflating: data/train/dog/7.jpeg   \n",
            "  inflating: data/train/dog/5.jpeg   \n",
            "  inflating: data/train/dog/6.jpeg   \n",
            "  inflating: data/train/dog/20.jpeg  \n",
            "  inflating: data/train/dog/8.jpeg   \n",
            "  inflating: data/train/dog/9.jpeg   \n",
            "  inflating: data/train/dog/10.jpeg  \n",
            "  inflating: data/train/dog/11.jpeg  \n",
            "  inflating: data/train/dog/14.jpeg  \n",
            "  inflating: data/train/dog/13.jpeg  \n",
            "  inflating: data/train/dog/15.jpeg  \n",
            "  inflating: data/train/dog/18.jpeg  \n",
            "  inflating: data/train/dog/17.jpeg  \n",
            "  inflating: data/train/dog/24.jpeg  \n",
            "  inflating: data/train/dog/19.jpeg  \n",
            "  inflating: data/train/dog/22.jpeg  \n",
            "  inflating: data/train/dog/21.jpeg  \n",
            "  inflating: data/train/dog/23.jpeg  \n",
            "  inflating: data/train/dog/26.jpeg  \n",
            "  inflating: data/train/dog/25.jpeg  \n",
            "  inflating: data/train/dog/27.jpeg  \n",
            "  inflating: data/train/dog/28.jpeg  \n",
            "  inflating: data/train/dog/29.jpeg  \n",
            "  inflating: data/train/dog/30.jpeg  \n",
            "   creating: data/val/\n",
            "   creating: data/val/cat/\n",
            "  inflating: data/val/cat/1.jpeg     \n",
            "  inflating: data/val/cat/3.jpeg     \n",
            "  inflating: data/val/cat/2.jpeg     \n",
            "  inflating: data/val/cat/4.jpeg     \n",
            "  inflating: data/val/cat/5.jpeg     \n",
            "  inflating: data/val/cat/6.jpeg     \n",
            "  inflating: data/val/cat/8.jpeg     \n",
            "  inflating: data/val/cat/7.jpeg     \n",
            "  inflating: data/val/cat/9.jpeg     \n",
            "  inflating: data/val/cat/11.jpeg    \n",
            "  inflating: data/val/cat/10.jpeg    \n",
            "  inflating: data/val/cat/12.jpeg    \n",
            "   creating: data/val/dog/\n",
            "  inflating: data/val/dog/3.jpeg     \n",
            "  inflating: data/val/dog/1.jpeg     \n",
            "  inflating: data/val/dog/5.jpeg     \n",
            "  inflating: data/val/dog/2.jpeg     \n",
            "  inflating: data/val/dog/12.jpeg    \n",
            "  inflating: data/val/dog/4.jpeg     \n",
            "  inflating: data/val/dog/8.jpeg     \n",
            "  inflating: data/val/dog/6.jpeg     \n",
            "  inflating: data/val/dog/7.jpeg     \n",
            "  inflating: data/val/dog/9.jpeg     \n",
            "  inflating: data/val/dog/10.jpeg    \n",
            "  inflating: data/val/dog/11.jpeg    \n"
          ],
          "name": "stdout"
        }
      ]
    },
    {
      "cell_type": "code",
      "metadata": {
        "id": "dF_LD_fRL58S",
        "colab_type": "code",
        "colab": {
          "base_uri": "https://localhost:8080/",
          "height": 68
        },
        "outputId": "8cd96597-f41a-41c0-e5bc-889f1c57bce8"
      },
      "source": [
        "!ls sample_data"
      ],
      "execution_count": 26,
      "outputs": [
        {
          "output_type": "stream",
          "text": [
            "anscombe.json\t\t      mnist_test.csv\n",
            "california_housing_test.csv   mnist_train_small.csv\n",
            "california_housing_train.csv  README.md\n"
          ],
          "name": "stdout"
        }
      ]
    },
    {
      "cell_type": "code",
      "metadata": {
        "id": "s9OrtJH3KdCU",
        "colab_type": "code",
        "colab": {}
      },
      "source": [
        "import numpy as np\n",
        "import matplotlib.pyplot as plt \n",
        "import torch.optim as optim\n",
        "\n",
        "from PIL import Image\n",
        "\n",
        "from torchvision import transforms\n",
        "from torch.utils.data import Dataset\n",
        "from torch.utils.data import DataLoader\n",
        "import torch.nn.functional as F\n",
        "\n",
        "import torch  \n",
        "import torch.nn as nn \n",
        "import torchvision \n",
        "\n",
        "import glob\n",
        "import os\n",
        "\n",
        "from torchvision import datasets, transforms, models\n",
        "%matplotlib inline\n",
        "\n",
        "image_size = (100, 100)\n",
        "image_row_size = image_size[0] * image_size[1]"
      ],
      "execution_count": 0,
      "outputs": []
    },
    {
      "cell_type": "code",
      "metadata": {
        "id": "81NErppsKdCX",
        "colab_type": "code",
        "colab": {}
      },
      "source": [
        "### Dataset.py"
      ],
      "execution_count": 0,
      "outputs": []
    },
    {
      "cell_type": "code",
      "metadata": {
        "id": "4xZXhM9rKdCb",
        "colab_type": "code",
        "colab": {}
      },
      "source": [
        ""
      ],
      "execution_count": 0,
      "outputs": []
    },
    {
      "cell_type": "code",
      "metadata": {
        "id": "T5JtG72_KdCe",
        "colab_type": "code",
        "colab": {}
      },
      "source": [
        "class CatDogDataset(Dataset):\n",
        "    def __init__(self, path, transform=None):\n",
        "        ## To create Classes\n",
        "        self.classes   = os.listdir(path)\n",
        "        ### Create path for each Class\n",
        "        self.path      = [f\"{path}/{className}\" for className in self.classes]\n",
        "        ### To copy the images (upload)\n",
        "        self.file_list = [glob.glob(f\"{x}/*\") for x in self.path]\n",
        "        \n",
        "        ### applied some transformations on the image\n",
        "\n",
        "        self.transform = transform\n",
        "        ### append the corresponding\n",
        "        files = []\n",
        "        for i, className in enumerate(self.classes):\n",
        "            for fileName in self.file_list[i]:\n",
        "                files.append([i, className, fileName])\n",
        "                \n",
        "        ### Assign the files to file_list\n",
        "        self.file_list = files\n",
        "        ###delete files\n",
        "        files = None\n",
        "        \n",
        "    def __len__(self):\n",
        "        return len(self.file_list)\n",
        "\n",
        "    def __getitem__(self, idx):\n",
        "        fileName = self.file_list[idx][2]\n",
        "        classCategory = self.file_list[idx][0]\n",
        "        im = Image.open(fileName)\n",
        "        if self.transform:\n",
        "            im = self.transform(im)\n",
        "        return im, classCategory#im.view(-1), classCategory"
      ],
      "execution_count": 0,
      "outputs": []
    },
    {
      "cell_type": "code",
      "metadata": {
        "id": "m4JKEiJ1KdCh",
        "colab_type": "code",
        "colab": {}
      },
      "source": [
        "### Build its transforms"
      ],
      "execution_count": 0,
      "outputs": []
    },
    {
      "cell_type": "code",
      "metadata": {
        "id": "mm9eGjq5KdCk",
        "colab_type": "code",
        "colab": {}
      },
      "source": [
        "mean = [0.485, 0.456, 0.406]\n",
        "std  = [0.229, 0.224, 0.225]\n",
        "transform = transforms.Compose([\n",
        "                                 transforms.Resize(image_size),\n",
        "                                 transforms.Grayscale(),\n",
        "                                transforms.ToTensor(), \n",
        "                                transforms.Lambda(lambda x: x.repeat(3,1,1)),\n",
        "                                transforms.Normalize(mean, std)])"
      ],
      "execution_count": 0,
      "outputs": []
    },
    {
      "cell_type": "code",
      "metadata": {
        "id": "eGb03oELKdCn",
        "colab_type": "code",
        "colab": {
          "base_uri": "https://localhost:8080/",
          "height": 34
        },
        "outputId": "a68cd70c-350d-4746-e9a2-ec7080891e30"
      },
      "source": [
        "!pwd\n"
      ],
      "execution_count": 11,
      "outputs": [
        {
          "output_type": "stream",
          "text": [
            "/content\n"
          ],
          "name": "stdout"
        }
      ]
    },
    {
      "cell_type": "code",
      "metadata": {
        "id": "Wo-r8LFYKdCs",
        "colab_type": "code",
        "colab": {}
      },
      "source": [
        "### train dataset"
      ],
      "execution_count": 0,
      "outputs": []
    },
    {
      "cell_type": "code",
      "metadata": {
        "id": "3C63AAvVKdCv",
        "colab_type": "code",
        "colab": {}
      },
      "source": [
        "#path = '/home/aims/Documents/Tutors/Nando_assignment/Cat_Dog_data/train'\n",
        "path = '/content/data/train'\n",
        "dataset = CatDogDataset(path, transform=transform)"
      ],
      "execution_count": 0,
      "outputs": []
    },
    {
      "cell_type": "code",
      "metadata": {
        "id": "67Gz0PxYKdCz",
        "colab_type": "code",
        "colab": {}
      },
      "source": [
        "#### Test dataset"
      ],
      "execution_count": 0,
      "outputs": []
    },
    {
      "cell_type": "code",
      "metadata": {
        "id": "iQVhqs98KdC2",
        "colab_type": "code",
        "colab": {}
      },
      "source": [
        "path1 = '/content/data/val'\n",
        "dataset1 = CatDogDataset(path1, transform=transform)"
      ],
      "execution_count": 0,
      "outputs": []
    },
    {
      "cell_type": "code",
      "metadata": {
        "id": "bzMdSN8jKdC5",
        "colab_type": "code",
        "colab": {}
      },
      "source": [
        "### Check the Size of the dataset"
      ],
      "execution_count": 0,
      "outputs": []
    },
    {
      "cell_type": "code",
      "metadata": {
        "id": "6LLnJ3l5KdC8",
        "colab_type": "code",
        "colab": {
          "base_uri": "https://localhost:8080/",
          "height": 51
        },
        "outputId": "eaafcf7a-2f71-4d7f-8745-77dc064d74d8"
      },
      "source": [
        "### Train\n",
        "l1= dataset.__len__()\n",
        "\n",
        "print('the len of the train data is \\n {}'.format(l1))"
      ],
      "execution_count": 19,
      "outputs": [
        {
          "output_type": "stream",
          "text": [
            "the len of the train data is \n",
            " 60\n"
          ],
          "name": "stdout"
        }
      ]
    },
    {
      "cell_type": "code",
      "metadata": {
        "id": "NLzoJhoSKdC_",
        "colab_type": "code",
        "colab": {
          "base_uri": "https://localhost:8080/",
          "height": 51
        },
        "outputId": "7c301776-97b6-4c63-84e3-7437f9c88f33"
      },
      "source": [
        "### Test\n",
        "l2= dataset1.__len__()\n",
        "\n",
        "print('the len of the train data is \\n {}'.format(l2))"
      ],
      "execution_count": 20,
      "outputs": [
        {
          "output_type": "stream",
          "text": [
            "the len of the train data is \n",
            " 24\n"
          ],
          "name": "stdout"
        }
      ]
    },
    {
      "cell_type": "code",
      "metadata": {
        "id": "4ofs-UC6KdDC",
        "colab_type": "code",
        "colab": {}
      },
      "source": [
        "### Some images"
      ],
      "execution_count": 0,
      "outputs": []
    },
    {
      "cell_type": "code",
      "metadata": {
        "id": "_KqyBjQZKdDF",
        "colab_type": "code",
        "colab": {}
      },
      "source": [
        ""
      ],
      "execution_count": 0,
      "outputs": []
    },
    {
      "cell_type": "code",
      "metadata": {
        "id": "aDr3ub-dKdDI",
        "colab_type": "code",
        "colab": {}
      },
      "source": [
        "def imshow(source):\n",
        "    plt.figure(figsize=(10,10))\n",
        "    imt = (source.view(-1, image_size[0], image_size[0]))\n",
        "    imt = imt.numpy().transpose([1,2,0])\n",
        "    imt = (std * imt + mean).clip(0,256)\n",
        "    plt.subplot(1,2,2)\n",
        "    plt.imshow(imt)"
      ],
      "execution_count": 0,
      "outputs": []
    },
    {
      "cell_type": "code",
      "metadata": {
        "id": "vB5AEoCpKdDK",
        "colab_type": "code",
        "colab": {
          "base_uri": "https://localhost:8080/",
          "height": 304
        },
        "outputId": "dcf4f6bf-660b-4574-9a75-c1e809ca7225"
      },
      "source": [
        "### imshow in=mages\n",
        "imshow(dataset[0][0])"
      ],
      "execution_count": 24,
      "outputs": [
        {
          "output_type": "display_data",
          "data": {
            "image/png": "[encoded data removed]",
            "text/plain": [
              "<Figure size 720x720 with 1 Axes>"
            ]
          },
          "metadata": {
            "tags": []
          }
        }
      ]
    },
    {
      "cell_type": "code",
      "metadata": {
        "id": "7z1HTbqYKdDN",
        "colab_type": "code",
        "colab": {}
      },
      "source": [
        "### For the train data\n",
        "shuffle     = True\n",
        "batch_size  = 8\n",
        "num_workers = 1\n",
        "dataloader  = DataLoader(dataset=dataset, \n",
        "                         shuffle=shuffle, \n",
        "                         batch_size=batch_size, \n",
        "                         num_workers=num_workers)"
      ],
      "execution_count": 0,
      "outputs": []
    },
    {
      "cell_type": "code",
      "metadata": {
        "id": "15G95JK6KdDR",
        "colab_type": "code",
        "colab": {}
      },
      "source": [
        "### For the train data\n",
        "shuffle     = True\n",
        "batch_size  = 8\n",
        "num_workers = 1\n",
        "dataloader1  = DataLoader(dataset=dataset1, \n",
        "                         shuffle=shuffle, \n",
        "                         batch_size=batch_size, \n",
        "                         num_workers=num_workers)"
      ],
      "execution_count": 0,
      "outputs": []
    },
    {
      "cell_type": "code",
      "metadata": {
        "id": "iGoEePy6KdDU",
        "colab_type": "code",
        "colab": {}
      },
      "source": [
        ""
      ],
      "execution_count": 0,
      "outputs": []
    },
    {
      "cell_type": "code",
      "metadata": {
        "id": "KV1JxZKHKdDZ",
        "colab_type": "code",
        "colab": {}
      },
      "source": [
        "### Let us look at the size of the dataset"
      ],
      "execution_count": 0,
      "outputs": []
    },
    {
      "cell_type": "code",
      "metadata": {
        "id": "QlqGDDemKdDc",
        "colab_type": "code",
        "colab": {
          "base_uri": "https://localhost:8080/",
          "height": 68
        },
        "outputId": "cf8c2f9c-f866-4136-a1da-1eb67beb3469"
      },
      "source": [
        "i=0\n",
        "for i, (X,Y) in enumerate(dataloader):\n",
        "    print(X.size())\n",
        "    print(Y.size())\n",
        "    print(i)\n",
        "    #print(X.view(-1,3*100*100).size())\n",
        "    break"
      ],
      "execution_count": 29,
      "outputs": [
        {
          "output_type": "stream",
          "text": [
            "torch.Size([8, 3, 100, 100])\n",
            "torch.Size([8])\n",
            "0\n"
          ],
          "name": "stdout"
        }
      ]
    },
    {
      "cell_type": "code",
      "metadata": {
        "id": "c9dEXrbJKdDe",
        "colab_type": "code",
        "colab": {}
      },
      "source": [
        "### Here, we have a RGB images"
      ],
      "execution_count": 0,
      "outputs": []
    },
    {
      "cell_type": "code",
      "metadata": {
        "id": "vT7YOQkGKdDh",
        "colab_type": "code",
        "colab": {}
      },
      "source": [
        ""
      ],
      "execution_count": 0,
      "outputs": []
    },
    {
      "cell_type": "code",
      "metadata": {
        "id": "_cNriEfeKdDj",
        "colab_type": "code",
        "colab": {}
      },
      "source": [
        "class CNN(nn.Module):\n",
        "    def __init__(self, input_size, n_feature, output_size):\n",
        "        super(CNN, self).__init__()\n",
        "        self.n_feature = n_feature\n",
        "        self.conv1 = nn.Conv2d(in_channels=3, out_channels=n_feature, kernel_size=(5,5))\n",
        "        self.conv2 = nn.Conv2d(n_feature, n_feature, kernel_size=(5,5))\n",
        "        self.fc1 = nn.Linear(22*22*n_feature, 150)\n",
        "        self.fc2 = nn.Linear(150, 2)\n",
        "        \n",
        "    def forward(self, x, verbose=False):\n",
        "        x = self.conv1(x)\n",
        "        x = F.relu(x)\n",
        "        x = F.max_pool2d(x, kernel_size=(2,2))\n",
        "        \n",
        "        #print('maxpool\\n',x.size())\n",
        "        x = self.conv2(x)\n",
        "        x = F.relu(x)\n",
        "        x = F.max_pool2d(x, kernel_size=(2,2))\n",
        "        #print('shape after second maxpool',x.size())\n",
        "        ### flatten() step\n",
        "        ### 64*5*5*3\n",
        "        x = x.view(-1, 22*22*self.n_feature)#(64,22*22*3)\n",
        "        #x = x.view(75, -1)\n",
        "        #print('after flatten',x.size())\n",
        "        x = self.fc1(x)\n",
        "        #print('fc1', x.shape)\n",
        "        x = F.relu(x)\n",
        "        x = self.fc2(x)\n",
        "        #print('FC2',x.shape)\n",
        "        x = F.log_softmax(x, dim=1)\n",
        "        #print('ouput shape\\n',x.size())\n",
        "        return x"
      ],
      "execution_count": 0,
      "outputs": []
    },
    {
      "cell_type": "code",
      "metadata": {
        "id": "PsOcqjRyKdDl",
        "colab_type": "code",
        "colab": {}
      },
      "source": [
        "input_size  = 100*100   # images are 28x28 pixels\n",
        "output_size = 2\n",
        "n_feature =3"
      ],
      "execution_count": 0,
      "outputs": []
    },
    {
      "cell_type": "code",
      "metadata": {
        "id": "N_HY-i1qKdDn",
        "colab_type": "code",
        "colab": {}
      },
      "source": [
        "model = CNN(input_size,n_feature,output_size )"
      ],
      "execution_count": 0,
      "outputs": []
    },
    {
      "cell_type": "code",
      "metadata": {
        "id": "9U_1XFiTKdDp",
        "colab_type": "code",
        "colab": {
          "base_uri": "https://localhost:8080/",
          "height": 119
        },
        "outputId": "16194ea0-cdd6-41d6-a315-2e0bdeed3161"
      },
      "source": [
        "model"
      ],
      "execution_count": 33,
      "outputs": [
        {
          "output_type": "execute_result",
          "data": {
            "text/plain": [
              "CNN(\n",
              "  (conv1): Conv2d(3, 3, kernel_size=(5, 5), stride=(1, 1))\n",
              "  (conv2): Conv2d(3, 3, kernel_size=(5, 5), stride=(1, 1))\n",
              "  (fc1): Linear(in_features=1452, out_features=150, bias=True)\n",
              "  (fc2): Linear(in_features=150, out_features=2, bias=True)\n",
              ")"
            ]
          },
          "metadata": {
            "tags": []
          },
          "execution_count": 33
        }
      ]
    },
    {
      "cell_type": "code",
      "metadata": {
        "id": "ig__HibAKdDr",
        "colab_type": "code",
        "colab": {}
      },
      "source": [
        "n_features = 3 # number of feature maps\n"
      ],
      "execution_count": 0,
      "outputs": []
    },
    {
      "cell_type": "code",
      "metadata": {
        "id": "1OkO2QMIKdDu",
        "colab_type": "code",
        "colab": {}
      },
      "source": [
        "#### Change of names\n",
        "train_loader = dataloader\n",
        "test_loader = dataloader1"
      ],
      "execution_count": 0,
      "outputs": []
    },
    {
      "cell_type": "code",
      "metadata": {
        "id": "gM31CGCfKdDx",
        "colab_type": "code",
        "colab": {}
      },
      "source": [
        " #function to count number of parameters\n",
        "def get_n_params(model):\n",
        "    np=0\n",
        "    for p in list(model.parameters()):\n",
        "        np += p.nelement()\n",
        "    return np"
      ],
      "execution_count": 0,
      "outputs": []
    },
    {
      "cell_type": "code",
      "metadata": {
        "id": "1ryIJWfAKdD0",
        "colab_type": "code",
        "colab": {
          "base_uri": "https://localhost:8080/",
          "height": 34
        },
        "outputId": "25e5aed2-46b6-439b-cc4c-78a85c585a37"
      },
      "source": [
        "optimizer = optim.SGD(model.parameters(), lr=0.01, momentum=0.5)\n",
        "print('Number of parameters: {}'.format(get_n_params(model)))"
      ],
      "execution_count": 37,
      "outputs": [
        {
          "output_type": "stream",
          "text": [
            "Number of parameters: 218708\n"
          ],
          "name": "stdout"
        }
      ]
    },
    {
      "cell_type": "code",
      "metadata": {
        "id": "4dWr7tc9KdD2",
        "colab_type": "code",
        "colab": {}
      },
      "source": [
        "### Train and Test code"
      ],
      "execution_count": 0,
      "outputs": []
    },
    {
      "cell_type": "code",
      "metadata": {
        "id": "1PWUepEVKdD6",
        "colab_type": "code",
        "colab": {}
      },
      "source": [
        ""
      ],
      "execution_count": 0,
      "outputs": []
    },
    {
      "cell_type": "code",
      "metadata": {
        "id": "prd_BXUMKdD7",
        "colab_type": "code",
        "colab": {}
      },
      "source": [
        "accuracy_list = []\n",
        "\n",
        "def train(epoch, model, perm=torch.arange(0, 100*100*3).long()):\n",
        "    model.train()\n",
        "    for batch_idx, (data, target) in enumerate(train_loader):\n",
        "        \n",
        "        # permute pixels\n",
        "        #print(target.shape)\n",
        "        #print('data\\n', data.shape)\n",
        "\n",
        "\n",
        "        #data = data.view(-1, 100*100*1)\n",
        "        #data = data[:, perm]\n",
        "        data = data.view(-1, 3, 100, 100)\n",
        "        \n",
        "        optimizer.zero_grad()\n",
        "        output = model(data)\n",
        "        #print(output.size())\n",
        "        loss = F.nll_loss(output, target)\n",
        "        loss.backward()\n",
        "        optimizer.step()\n",
        "        if batch_idx % 100 == 0:\n",
        "            print('Train Epoch: {} [{}/{} ({:.0f}%)]\\tLoss: {:.6f}'.format(\n",
        "                epoch, batch_idx * len(data), len(train_loader.dataset),\n",
        "                100. * batch_idx / len(train_loader), loss.item()))\n",
        "            \n",
        "def test(model, perm=torch.arange(0, 100*100*3).long()):\n",
        "    model.eval()\n",
        "    test_loss = 0\n",
        "    correct = 0\n",
        "    for data, target in test_loader:\n",
        "        # permute pixels\n",
        "        #data = data.view(-1, 100*100*3)\n",
        "        #data = data[:, perm]\n",
        "        data = data.view(-1, 3, 100, 100)\n",
        "        output = model(data)\n",
        "        test_loss += F.nll_loss(output, target, reduction='sum').item() # sum up batch loss                                                               \n",
        "        pred = output.data.max(1, keepdim=True)[1] # get the index of the max log-probability                                                                 \n",
        "        correct += pred.eq(target.data.view_as(pred)).cpu().sum().item()\n",
        "\n",
        "    test_loss /= len(test_loader.dataset)\n",
        "    accuracy = 100. * correct / len(test_loader.dataset)\n",
        "    accuracy_list.append(accuracy)\n",
        "    print('\\nTest set: Average loss: {:.4f}, Accuracy: {}/{} ({:.0f}%)\\n'.format(\n",
        "        test_loss, correct, len(test_loader.dataset),\n",
        "        accuracy))"
      ],
      "execution_count": 0,
      "outputs": []
    },
    {
      "cell_type": "code",
      "metadata": {
        "id": "5_rZoNu8KdD9",
        "colab_type": "code",
        "colab": {}
      },
      "source": [
        ""
      ],
      "execution_count": 0,
      "outputs": []
    },
    {
      "cell_type": "code",
      "metadata": {
        "id": "-vY0pVxiKdD_",
        "colab_type": "code",
        "colab": {
          "base_uri": "https://localhost:8080/",
          "height": 85
        },
        "outputId": "db6c8efa-640f-4f33-a92b-684c0b9bbaac"
      },
      "source": [
        "for epoch in range(0, 1):\n",
        "    train(epoch, model)\n",
        "    test(model)"
      ],
      "execution_count": 40,
      "outputs": [
        {
          "output_type": "stream",
          "text": [
            "Train Epoch: 0 [0/60 (0%)]\tLoss: 0.688307\n",
            "\n",
            "Test set: Average loss: 0.6914, Accuracy: 12/24 (50%)\n",
            "\n"
          ],
          "name": "stdout"
        }
      ]
    },
    {
      "cell_type": "code",
      "metadata": {
        "id": "lEO9zeCqKdEB",
        "colab_type": "code",
        "colab": {}
      },
      "source": [
        ""
      ],
      "execution_count": 0,
      "outputs": []
    },
    {
      "cell_type": "code",
      "metadata": {
        "id": "8S3JxAXJKdED",
        "colab_type": "code",
        "colab": {}
      },
      "source": [
        ""
      ],
      "execution_count": 0,
      "outputs": []
    },
    {
      "cell_type": "code",
      "metadata": {
        "id": "UrsQo6VpKdEF",
        "colab_type": "code",
        "colab": {}
      },
      "source": [
        "n_feature"
      ],
      "execution_count": 0,
      "outputs": []
    },
    {
      "cell_type": "code",
      "metadata": {
        "id": "2OswOXt8KdEH",
        "colab_type": "code",
        "colab": {}
      },
      "source": [
        ""
      ],
      "execution_count": 0,
      "outputs": []
    }
  ]
}